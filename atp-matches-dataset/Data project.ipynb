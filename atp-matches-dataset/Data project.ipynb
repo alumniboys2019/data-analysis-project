{
 "cells": [
  {
   "cell_type": "markdown",
   "metadata": {},
   "source": [
    "# Mandatory assignment 1: Data analysis project - ATP Tennis scores"
   ]
  },
  {
   "cell_type": "markdown",
   "metadata": {},
   "source": [
    "This project consists of three main sections which are trying to describe, analyse and derive useful conclusions in the realm of ATP results from 2000-2010. Section one will first of all combine all 10 individual csv-files into on merged file and hereafter apply the nessesary cleaning and structuring, which mean column deletion and elimination of rows which are containing empty data. In section two we apply descriptive statistics and find useful  \n",
    "\n",
    "* **Step 1: Package import:** The first part of coding in our project is the import of useful packages and "
   ]
  },
  {
   "cell_type": "code",
   "execution_count": 53,
   "metadata": {},
   "outputs": [],
   "source": [
    "import os\n",
    "import glob\n",
    "import pandas as pd\n",
    "import matplotlib.pyplot as plt\n",
    "import numpy as np\n",
    "import statsmodels.api as sm\n",
    "import statsmodels.formula.api as smf\n",
    "\n",
    "from pandas import DataFrame as df\n",
    "from scipy.stats import trim_mean, kurtosis\n",
    "from scipy.stats.mstats import mode, gmean, hmean"
   ]
  },
  {
   "cell_type": "markdown",
   "metadata": {},
   "source": [
    "..................................................................................................................................................................................................................................."
   ]
  },
  {
   "cell_type": "markdown",
   "metadata": {},
   "source": [
    "* **Step 2: Setting of local environment:** This part is locating our main environment folder at the desktop called atp-matches-dataset."
   ]
  },
  {
   "cell_type": "code",
   "execution_count": 54,
   "metadata": {},
   "outputs": [],
   "source": [
    "#sti til mappe der skal arbejdes i \n",
    "os.chdir(\"/Users/Christofferku/Desktop/atp-matches-dataset/\")\n"
   ]
  },
  {
   "cell_type": "markdown",
   "metadata": {},
   "source": [
    "..................................................................................................................................................................................................................................."
   ]
  },
  {
   "cell_type": "markdown",
   "metadata": {},
   "source": [
    "* **Step 3: Deletion of old runs:** We will later save the merged csv in out local folder and we do therefore delete earlier version of this copy. Moreover the only files which have to be merged in step 4 is the annual data and cannot be contaminated by other csv files."
   ]
  },
  {
   "cell_type": "code",
   "execution_count": 55,
   "metadata": {},
   "outputs": [],
   "source": [
    "#hvis filen vi danner i forvejen findes slettes den så der kan køres en ny\n",
    "if os.path.exists(\"Tennis_mod.csv\"):\n",
    "    os.remove(\"Tennis_mod.csv\")\n",
    "else:\n",
    "    print('File does not exists')"
   ]
  },
  {
   "cell_type": "markdown",
   "metadata": {},
   "source": [
    "..................................................................................................................................................................................................................................."
   ]
  },
  {
   "cell_type": "markdown",
   "metadata": {},
   "source": [
    "* **Step 4: Merging all files :** all files with the extension 'csv' is chosen and merged into one joint table file in tennis_total by the function panda.concat"
   ]
  },
  {
   "cell_type": "code",
   "execution_count": 56,
   "metadata": {},
   "outputs": [],
   "source": [
    "#alle filer med format csv medtages og samles i tennis_total\n",
    "extension = 'csv'\n",
    "all_filenames = [i for i in glob.glob('*.{}'.format(extension))]\n",
    "Tennis_total = pd.concat([pd.read_csv(f) for f in all_filenames ])\n"
   ]
  },
  {
   "cell_type": "markdown",
   "metadata": {},
   "source": [
    "> **Description and analysis:** xxxxxxxxxxxxxxxxxxxxxxxxxxxxx."
   ]
  },
  {
   "cell_type": "markdown",
   "metadata": {},
   "source": [
    "..................................................................................................................................................................................................................................."
   ]
  },
  {
   "cell_type": "markdown",
   "metadata": {},
   "source": [
    "* **Step 5: Choosing the relevant columns and information:** We have decided to examinate the ...."
   ]
  },
  {
   "cell_type": "code",
   "execution_count": 57,
   "metadata": {},
   "outputs": [],
   "source": [
    "#Vælger hvilke kolonner i tennis_total vi vil have med og danner det endelige dataset Tennis_mod\n",
    "keep_col = ['tourney_id','tourney_name','surface','draw_size','winner_ht', 'winner_age', 'winner_rank', 'winner_rank_points', 'winner_ioc'] \n",
    "Tennis_mod=Tennis_total[keep_col]"
   ]
  },
  {
   "cell_type": "markdown",
   "metadata": {},
   "source": [
    "> **Description and analysis:** xxxxxxxxxxxxxxxxxxxxxxxxxxxxx."
   ]
  },
  {
   "cell_type": "markdown",
   "metadata": {},
   "source": [
    "..................................................................................................................................................................................................................................."
   ]
  },
  {
   "cell_type": "markdown",
   "metadata": {},
   "source": [
    "* **Step 6: Filtering blank cells :** We remove all blank cells in the "
   ]
  },
  {
   "cell_type": "code",
   "execution_count": 58,
   "metadata": {},
   "outputs": [],
   "source": [
    "#fjerner rækker med blanke celler\n",
    "Tennis_mod = Tennis_mod[Tennis_mod['tourney_id'].notnull()]\n",
    "Tennis_mod = Tennis_mod[Tennis_mod['tourney_name'].notnull()]\n",
    "Tennis_mod = Tennis_mod[Tennis_mod['surface'].notnull()]\n",
    "Tennis_mod = Tennis_mod[Tennis_mod['draw_size'].notnull()]\n",
    "Tennis_mod = Tennis_mod[Tennis_mod['winner_ht'].notnull()]\n",
    "Tennis_mod = Tennis_mod[Tennis_mod['winner_age'].notnull()]\n",
    "Tennis_mod = Tennis_mod[Tennis_mod['winner_rank'].notnull()]\n",
    "Tennis_mod = Tennis_mod[Tennis_mod['winner_rank_points'].notnull()]"
   ]
  },
  {
   "cell_type": "markdown",
   "metadata": {},
   "source": [
    "> **Description and analysis:** xxxxxxxxxxxxxxxxxxxxxxxxxxxxx."
   ]
  },
  {
   "cell_type": "markdown",
   "metadata": {},
   "source": [
    "..................................................................................................................................................................................................................................."
   ]
  },
  {
   "cell_type": "markdown",
   "metadata": {},
   "source": [
    "* **Step 7: Save the final table in local folder :** the file is "
   ]
  },
  {
   "cell_type": "code",
   "execution_count": 59,
   "metadata": {},
   "outputs": [],
   "source": [
    "#Laver tennis_mod til csv som gemmes i samme mappe med stien\n",
    "Tennis_mod.to_csv( \"Tennis_mod.csv\", index=False, encoding='utf-8-sig')\n"
   ]
  },
  {
   "cell_type": "markdown",
   "metadata": {},
   "source": [
    "> **Description and analysis:** xxxxxxxxxxxxxxxxxxxxxxxxxxxxx."
   ]
  },
  {
   "cell_type": "markdown",
   "metadata": {},
   "source": [
    "..................................................................................................................................................................................................................................."
   ]
  },
  {
   "cell_type": "markdown",
   "metadata": {},
   "source": [
    "* **Step 8: Print the final table :** We print the tennis_mod table as an overview fo......"
   ]
  },
  {
   "cell_type": "code",
   "execution_count": 60,
   "metadata": {},
   "outputs": [
    {
     "name": "stdout",
     "output_type": "stream",
     "text": [
      "     tourney_id                 tourney_name surface  draw_size  winner_ht  \\\n",
      "0      2000-717                      Orlando    Clay         32      185.0   \n",
      "1      2000-717                      Orlando    Clay         32      183.0   \n",
      "2      2000-717                      Orlando    Clay         32      185.0   \n",
      "3      2000-717                      Orlando    Clay         32      183.0   \n",
      "4      2000-717                      Orlando    Clay         32      185.0   \n",
      "5      2000-717                      Orlando    Clay         32      185.0   \n",
      "6      2000-717                      Orlando    Clay         32      178.0   \n",
      "7      2000-717                      Orlando    Clay         32      178.0   \n",
      "8      2000-717                      Orlando    Clay         32      183.0   \n",
      "9      2000-717                      Orlando    Clay         32      188.0   \n",
      "10     2000-717                      Orlando    Clay         32      173.0   \n",
      "11     2000-717                      Orlando    Clay         32      180.0   \n",
      "12     2000-717                      Orlando    Clay         32      185.0   \n",
      "13     2000-717                      Orlando    Clay         32      188.0   \n",
      "14     2000-717                      Orlando    Clay         32      185.0   \n",
      "15     2000-717                      Orlando    Clay         32      185.0   \n",
      "16     2000-717                      Orlando    Clay         32      183.0   \n",
      "17     2000-717                      Orlando    Clay         32      185.0   \n",
      "18     2000-717                      Orlando    Clay         32      185.0   \n",
      "19     2000-717                      Orlando    Clay         32      178.0   \n",
      "20     2000-717                      Orlando    Clay         32      183.0   \n",
      "21     2000-717                      Orlando    Clay         32      180.0   \n",
      "22     2000-717                      Orlando    Clay         32      188.0   \n",
      "23     2000-717                      Orlando    Clay         32      185.0   \n",
      "24     2000-717                      Orlando    Clay         32      183.0   \n",
      "25     2000-717                      Orlando    Clay         32      178.0   \n",
      "26     2000-717                      Orlando    Clay         32      183.0   \n",
      "27     2000-717                      Orlando    Clay         32      185.0   \n",
      "28     2000-717                      Orlando    Clay         32      183.0   \n",
      "29     2000-717                      Orlando    Clay         32      183.0   \n",
      "...         ...                          ...     ...        ...        ...   \n",
      "3027  2010-D075  Davis Cup WG PO: COL vs USA    Clay          4      188.0   \n",
      "3028  2010-D075  Davis Cup WG PO: COL vs USA    Clay          4      188.0   \n",
      "3029  2010-D075  Davis Cup WG PO: COL vs USA    Clay          4      188.0   \n",
      "3030  2010-D076  Davis Cup WG PO: ISR vs AUT    Hard          4      175.0   \n",
      "3031  2010-D076  Davis Cup WG PO: ISR vs AUT    Hard          4      183.0   \n",
      "3032  2010-D076  Davis Cup WG PO: ISR vs AUT    Hard          4      183.0   \n",
      "3034  2010-D077  Davis Cup WG PO: GER vs RSA    Clay          4      178.0   \n",
      "3035  2010-D077  Davis Cup WG PO: GER vs RSA    Clay          4      190.0   \n",
      "3036  2010-D077  Davis Cup WG PO: GER vs RSA    Clay          4      190.0   \n",
      "3037  2010-D077  Davis Cup WG PO: GER vs RSA    Clay          4      190.0   \n",
      "3038  2010-D078  Davis Cup WG PO: SWE vs ITA    Hard          4      188.0   \n",
      "3039  2010-D078  Davis Cup WG PO: SWE vs ITA    Hard          4      193.0   \n",
      "3040  2010-D078  Davis Cup WG PO: SWE vs ITA    Hard          4      193.0   \n",
      "3041  2010-D078  Davis Cup WG PO: SWE vs ITA    Hard          4      178.0   \n",
      "3042  2010-D079  Davis Cup WG PO: IND vs BRA    Hard          4      188.0   \n",
      "3043  2010-D079  Davis Cup WG PO: IND vs BRA    Hard          4      175.0   \n",
      "3044  2010-D079  Davis Cup WG PO: IND vs BRA    Hard          4      180.0   \n",
      "3045  2010-D079  Davis Cup WG PO: IND vs BRA    Hard          4      190.0   \n",
      "3046  2010-D080  Davis Cup WG PO: AUS vs BEL    Hard          4      180.0   \n",
      "3047  2010-D080  Davis Cup WG PO: AUS vs BEL    Hard          4      168.0   \n",
      "3048  2010-D080  Davis Cup WG PO: AUS vs BEL    Hard          4      168.0   \n",
      "3049  2010-D080  Davis Cup WG PO: AUS vs BEL    Hard          4      178.0   \n",
      "3050  2010-D081  Davis Cup WG PO: KAZ vs SUI    Hard          4      185.0   \n",
      "3051  2010-D081  Davis Cup WG PO: KAZ vs SUI    Hard          4      183.0   \n",
      "3052  2010-D081  Davis Cup WG PO: KAZ vs SUI    Hard          4      185.0   \n",
      "3053  2010-D081  Davis Cup WG PO: KAZ vs SUI    Hard          4      183.0   \n",
      "3054  2010-D082  Davis Cup WG PO: ROU vs ECU    Clay          4      198.0   \n",
      "3055  2010-D082  Davis Cup WG PO: ROU vs ECU    Clay          4      178.0   \n",
      "3056  2010-D082  Davis Cup WG PO: ROU vs ECU    Clay          4      185.0   \n",
      "3057  2010-D082  Davis Cup WG PO: ROU vs ECU    Clay          4      178.0   \n",
      "\n",
      "      winner_age  winner_rank  winner_rank_points winner_ioc  \n",
      "0      27.181383        113.0               351.0        FRA  \n",
      "1      19.756331        352.0                76.0        CHI  \n",
      "2      20.881588        103.0               380.0        THA  \n",
      "3      30.047912        107.0               371.0        NED  \n",
      "4      30.075291         74.0               543.0        AUS  \n",
      "5      22.020534         92.0               429.0        CZE  \n",
      "6      30.368241        120.0               322.0        ARG  \n",
      "7      23.739904         79.0               516.0        USA  \n",
      "8      20.558522         89.0               464.0        CHI  \n",
      "9      25.538672        125.0               315.0        SVK  \n",
      "10     22.001369        165.0               221.0        USA  \n",
      "11     34.872005         72.0               550.0        ITA  \n",
      "12     22.869268        205.0               160.0        ROU  \n",
      "13     22.447639        100.0               385.0        GER  \n",
      "14     19.783710        148.0               253.0        BEL  \n",
      "15     23.460643        216.0               155.0        PAR  \n",
      "16     19.756331        352.0                76.0        CHI  \n",
      "17     20.881588        103.0               380.0        THA  \n",
      "18     22.020534         92.0               429.0        CZE  \n",
      "19     30.368241        120.0               322.0        ARG  \n",
      "20     20.558522         89.0               464.0        CHI  \n",
      "21     34.872005         72.0               550.0        ITA  \n",
      "22     22.447639        100.0               385.0        GER  \n",
      "23     23.460643        216.0               155.0        PAR  \n",
      "24     19.756331        352.0                76.0        CHI  \n",
      "25     30.368241        120.0               322.0        ARG  \n",
      "26     20.558522         89.0               464.0        CHI  \n",
      "27     23.460643        216.0               155.0        PAR  \n",
      "28     19.756331        352.0                76.0        CHI  \n",
      "29     20.558522         89.0               464.0        CHI  \n",
      "...          ...          ...                 ...        ...  \n",
      "3027   28.761123         19.0              1931.0        USA  \n",
      "3028   22.795346         61.0               801.0        COL  \n",
      "3029   28.761123         19.0              1931.0        USA  \n",
      "3030   25.442847         85.0               618.0        ISR  \n",
      "3031   29.311431         13.0              2605.0        AUT  \n",
      "3032   29.311431         13.0              2605.0        AUT  \n",
      "3034   26.910335         31.0              1270.0        GER  \n",
      "3035   26.940452         45.0               978.0        GER  \n",
      "3036   24.602327        101.0               515.0        GER  \n",
      "3037   26.940452         45.0               978.0        GER  \n",
      "3038   29.166324         50.0               915.0        ITA  \n",
      "3039   26.080767          5.0              4910.0        SWE  \n",
      "3040   26.080767          5.0              4910.0        SWE  \n",
      "3041   23.307324         71.0               720.0        ITA  \n",
      "3042   22.704997         27.0              1455.0        BRA  \n",
      "3043   29.727584         75.0               683.0        BRA  \n",
      "3044   25.579740        113.0               478.0        IND  \n",
      "3045   30.527036        479.0                64.0        IND  \n",
      "3046   29.549624         36.0              1135.0        AUS  \n",
      "3047   29.650924         79.0               650.0        BEL  \n",
      "3048   29.650924         79.0               650.0        BEL  \n",
      "3049   26.502396        117.0               474.0        BEL  \n",
      "3050   23.145791         39.0              1080.0        KAZ  \n",
      "3051   22.715948         81.0               628.0        KAZ  \n",
      "3052   23.145791         39.0              1080.0        KAZ  \n",
      "3053   22.715948         81.0               628.0        KAZ  \n",
      "3054   29.147159         54.0               905.0        ROU  \n",
      "3055   25.631759        130.0               413.0        ROU  \n",
      "3056   28.303901        183.0               272.0        ROU  \n",
      "3057   25.631759        130.0               413.0        ROU  \n",
      "\n",
      "[33488 rows x 9 columns]\n"
     ]
    }
   ],
   "source": [
    "#et stk. printet samlet tabel\n",
    "print(Tennis_mod)"
   ]
  },
  {
   "cell_type": "markdown",
   "metadata": {},
   "source": [
    "> **Description and analysis:** xxxxxxxxxxxxxxxxxxxxxxxxxxxxx."
   ]
  },
  {
   "cell_type": "markdown",
   "metadata": {},
   "source": [
    "..................................................................................................................................................................................................................................."
   ]
  },
  {
   "cell_type": "markdown",
   "metadata": {},
   "source": [
    "* **Step 9: Descriptive analysis :** we use the describe from the imported package dsstat..."
   ]
  },
  {
   "cell_type": "code",
   "execution_count": 61,
   "metadata": {},
   "outputs": [
    {
     "name": "stdout",
     "output_type": "stream",
     "text": [
      "          draw_size     winner_ht    winner_age   winner_rank  \\\n",
      "count  33488.000000  33488.000000  33488.000000  33488.000000   \n",
      "mean      55.030936    185.055393     25.403898     69.081402   \n",
      "std       37.830872      6.378877      3.424202     98.794001   \n",
      "min        4.000000    168.000000     15.824778      1.000000   \n",
      "25%       32.000000    180.000000     22.858316     18.000000   \n",
      "50%       32.000000    185.000000     25.229295     44.000000   \n",
      "75%       64.000000    190.000000     27.759754     84.000000   \n",
      "max      128.000000    208.000000     38.291581   1554.000000   \n",
      "\n",
      "       winner_rank_points  \n",
      "count        33488.000000  \n",
      "mean          1311.180065  \n",
      "std           1497.596499  \n",
      "min              1.000000  \n",
      "25%            509.000000  \n",
      "50%            855.000000  \n",
      "75%           1498.000000  \n",
      "max          15390.000000  \n"
     ]
    }
   ],
   "source": [
    "#et stk. deskriptiv analyse\n",
    "DataDescribe=Tennis_mod.describe()\n",
    "print(DataDescribe)\n"
   ]
  },
  {
   "cell_type": "markdown",
   "metadata": {},
   "source": [
    "> **Description and analysis:** xxxxxxxxxxxxxxxxxxxxxxxxxxxxx."
   ]
  },
  {
   "cell_type": "markdown",
   "metadata": {},
   "source": [
    "..................................................................................................................................................................................................................................."
   ]
  },
  {
   "cell_type": "markdown",
   "metadata": {},
   "source": [
    "* **Step 10: OLS :** We remo"
   ]
  },
  {
   "cell_type": "code",
   "execution_count": 62,
   "metadata": {},
   "outputs": [
    {
     "name": "stdout",
     "output_type": "stream",
     "text": [
      "                            OLS Regression Results                            \n",
      "==============================================================================\n",
      "Dep. Variable:            winner_rank   R-squared:                       0.001\n",
      "Model:                            OLS   Adj. R-squared:                  0.001\n",
      "Method:                 Least Squares   F-statistic:                     16.35\n",
      "Date:                Mon, 25 Mar 2019   Prob (F-statistic):           8.00e-08\n",
      "Time:                        22:19:23   Log-Likelihood:            -2.0131e+05\n",
      "No. Observations:               33488   AIC:                         4.026e+05\n",
      "Df Residuals:                   33485   BIC:                         4.027e+05\n",
      "Df Model:                           2                                         \n",
      "Covariance Type:            nonrobust                                         \n",
      "==============================================================================\n",
      "                 coef    std err          t      P>|t|      [0.025      0.975]\n",
      "------------------------------------------------------------------------------\n",
      "Intercept    149.4017     16.470      9.071      0.000     117.120     181.683\n",
      "winner_age    -0.6861      0.158     -4.344      0.000      -0.996      -0.377\n",
      "winner_ht     -0.3398      0.085     -4.008      0.000      -0.506      -0.174\n",
      "==============================================================================\n",
      "Omnibus:                    35927.891   Durbin-Watson:                   1.289\n",
      "Prob(Omnibus):                  0.000   Jarque-Bera (JB):          3146417.992\n",
      "Skew:                           5.440   Prob(JB):                         0.00\n",
      "Kurtosis:                      49.223   Cond. No.                     5.70e+03\n",
      "==============================================================================\n",
      "\n",
      "Warnings:\n",
      "[1] Standard Errors assume that the covariance matrix of the errors is correctly specified.\n",
      "[2] The condition number is large, 5.7e+03. This might indicate that there are\n",
      "strong multicollinearity or other numerical problems.\n"
     ]
    }
   ],
   "source": [
    "#et stk. OLS\n",
    "results = smf.ols('winner_rank ~ winner_age + winner_ht', data=Tennis_mod).fit()\n",
    "print(results.summary())"
   ]
  },
  {
   "cell_type": "markdown",
   "metadata": {},
   "source": [
    "> **Description and analysis:** xxxxxxxxxxxxxxxxxxxxxxxxxxxxx."
   ]
  },
  {
   "cell_type": "markdown",
   "metadata": {},
   "source": [
    "..................................................................................................................................................................................................................................."
   ]
  },
  {
   "cell_type": "markdown",
   "metadata": {},
   "source": [
    "* **Step 11: Plot :** We remo"
   ]
  },
  {
   "cell_type": "code",
   "execution_count": 63,
   "metadata": {},
   "outputs": [
    {
     "data": {
      "image/png": "[encoded data removed]",
      "text/plain": [
       "<Figure size 576x396 with 1 Axes>"
      ]
     },
     "metadata": {},
     "output_type": "display_data"
    }
   ],
   "source": [
    "#et stk. plot\n",
    "plt.style.use('seaborn')\n",
    "Tennis_mod.plot(x='winner_rank_points', y='winner_rank', kind='scatter')\n",
    "plt.show()\n"
   ]
  },
  {
   "cell_type": "markdown",
   "metadata": {},
   "source": []
  },
  {
   "cell_type": "code",
   "execution_count": null,
   "metadata": {},
   "outputs": [],
   "source": []
  },
  {
   "cell_type": "code",
   "execution_count": null,
   "metadata": {},
   "outputs": [],
   "source": []
  },
  {
   "cell_type": "code",
   "execution_count": null,
   "metadata": {},
   "outputs": [],
   "source": []
  },
  {
   "cell_type": "code",
   "execution_count": null,
   "metadata": {},
   "outputs": [],
   "source": []
  },
  {
   "cell_type": "code",
   "execution_count": null,
   "metadata": {},
   "outputs": [],
   "source": []
  },
  {
   "cell_type": "code",
   "execution_count": null,
   "metadata": {},
   "outputs": [],
   "source": []
  },
  {
   "cell_type": "code",
   "execution_count": null,
   "metadata": {},
   "outputs": [],
   "source": []
  },
  {
   "cell_type": "code",
   "execution_count": null,
   "metadata": {},
   "outputs": [],
   "source": []
  },
  {
   "cell_type": "code",
   "execution_count": null,
   "metadata": {},
   "outputs": [],
   "source": [
    "import os\n",
    "import glob\n",
    "import pandas as pd\n",
    "import matplotlib.pyplot as plt\n",
    "import numpy as np\n",
    "import statsmodels.api as sm\n",
    "import statsmodels.formula.api as smf\n",
    "\n",
    "from pandas import DataFrame as df\n",
    "from scipy.stats import trim_mean, kurtosis\n",
    "from scipy.stats.mstats import mode, gmean, hmean\n",
    "\n",
    "#sti til mappe der skal arbejdes i \n",
    "os.chdir(\"/Users/Christofferku/Desktop/atp-matches-dataset/\")\n",
    "\n",
    "#hvis filen vi danner i forvejen findes slettes den så der kan køres en ny\n",
    "if os.path.exists(\"Tennis_mod.csv\"):\n",
    "    os.remove(\"Tennis_mod.csv\")\n",
    "else:\n",
    "    print('File does not exists')\n",
    "\n",
    "#alle filer med format csv medtages og samles i tennis_total\n",
    "extension = 'csv'\n",
    "all_filenames = [i for i in glob.glob('*.{}'.format(extension))]\n",
    "Tennis_total = pd.concat([pd.read_csv(f) for f in all_filenames ])\n",
    "\n",
    "#Vælger hvilke kolonner i tennis_total vi vil have med og danner det endelige dataset Tennis_mod\n",
    "keep_col = ['tourney_id','tourney_name','surface','draw_size','winner_ht', 'winner_age', 'winner_rank', 'winner_rank_points', 'winner_ioc'] \n",
    "Tennis_mod=Tennis_total[keep_col]\n",
    "\n",
    "#fjerner rækker med blanke celler\n",
    "Tennis_mod = Tennis_mod[Tennis_mod['tourney_id'].notnull()]\n",
    "Tennis_mod = Tennis_mod[Tennis_mod['tourney_name'].notnull()]\n",
    "Tennis_mod = Tennis_mod[Tennis_mod['surface'].notnull()]\n",
    "Tennis_mod = Tennis_mod[Tennis_mod['draw_size'].notnull()]\n",
    "Tennis_mod = Tennis_mod[Tennis_mod['winner_ht'].notnull()]\n",
    "Tennis_mod = Tennis_mod[Tennis_mod['winner_age'].notnull()]\n",
    "Tennis_mod = Tennis_mod[Tennis_mod['winner_rank'].notnull()]\n",
    "Tennis_mod = Tennis_mod[Tennis_mod['winner_rank_points'].notnull()]\n",
    "\n",
    "#Laver tennis_mod til csv som gemmes i samme mappe med stien\n",
    "Tennis_mod.to_csv( \"Tennis_mod.csv\", index=False, encoding='utf-8-sig')\n",
    "\n",
    "#et stk. printet samlet tabel\n",
    "print(Tennis_mod)\n",
    "\n",
    "#et stk. deskriptiv analyse\n",
    "DataDescribe=Tennis_mod.describe()\n",
    "print(DataDescribe)\n",
    "\n",
    "#et stk. OLS\n",
    "results = smf.ols('winner_rank ~ winner_age + winner_ht', data=Tennis_mod).fit()\n",
    "print(results.summary())\n",
    "\n",
    "#et stk. plot\n",
    "plt.style.use('seaborn')\n",
    "Tennis_mod.plot(x='winner_rank_points', y='winner_rank', kind='scatter')\n",
    "plt.show()\n",
    "\n",
    "\n",
    "#bumbum.\n"
   ]
  },
  {
   "cell_type": "code",
   "execution_count": null,
   "metadata": {},
   "outputs": [],
   "source": []
  },
  {
   "cell_type": "code",
   "execution_count": null,
   "metadata": {},
   "outputs": [],
   "source": []
  }
 ],
 "metadata": {
  "kernelspec": {
   "display_name": "Python 3",
   "language": "python",
   "name": "python3"
  },
  "language_info": {
   "codemirror_mode": {
    "name": "ipython",
    "version": 3
   },
   "file_extension": ".py",
   "mimetype": "text/x-python",
   "name": "python",
   "nbconvert_exporter": "python",
   "pygments_lexer": "ipython3",
   "version": "3.7.1"
  }
 },
 "nbformat": 4,
 "nbformat_minor": 2
}

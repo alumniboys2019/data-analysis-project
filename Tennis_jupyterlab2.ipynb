import os
import glob
import pandas as pd
import matplotlib.pyplot as plt
import numpy as np
import statsmodels.api as sm
import statsmodels.formula.api as smf

from pandas import DataFrame as df
from scipy.stats import trim_mean, kurtosis
from scipy.stats.mstats import mode, gmean, hmean

#sti til mappe der skal arbejdes i 
os.chdir("/Users/Christofferku/Desktop/atp-matches-dataset/")

#hvis filen vi danner i forvejen findes slettes den så der kan køres en ny
if os.path.exists("Tennis_mod.csv"):
    os.remove("Tennis_mod.csv")
else:
    print('File does not exists')

#alle filer med format csv medtages og samles i tennis_total
extension = 'csv'
all_filenames = [i for i in glob.glob('*.{}'.format(extension))]
Tennis_total = pd.concat([pd.read_csv(f) for f in all_filenames ])

#Vælger hvilke kolonner i tennis_total vi vil have med og danner det endelige dataset Tennis_mod
keep_col = ['tourney_id','tourney_name','surface','draw_size','winner_ht', 'winner_age', 'winner_rank', 'winner_rank_points'] 
Tennis_mod=Tennis_total[keep_col]

#fjerner rækker med blanke celler
Tennis_mod = Tennis_mod[Tennis_mod['tourney_id'].notnull()]
Tennis_mod = Tennis_mod[Tennis_mod['tourney_name'].notnull()]
Tennis_mod = Tennis_mod[Tennis_mod['surface'].notnull()]
Tennis_mod = Tennis_mod[Tennis_mod['draw_size'].notnull()]
Tennis_mod = Tennis_mod[Tennis_mod['winner_ht'].notnull()]
Tennis_mod = Tennis_mod[Tennis_mod['winner_age'].notnull()]
Tennis_mod = Tennis_mod[Tennis_mod['winner_rank'].notnull()]
Tennis_mod = Tennis_mod[Tennis_mod['winner_rank_points'].notnull()]

#Laver tennis_mod til csv som gemmes i samme mappe med stien
Tennis_mod.to_csv( "Tennis_mod.csv", index=False, encoding='utf-8-sig')

#et stk. printet samlet tabel
print(Tennis_mod)

#et stk. deskriptiv analyse
DataDescribe=Tennis_mod.describe()
print(DataDescribe)

#et stk. OLS
results = smf.ols('winner_rank ~ winner_age + winner_ht', data=Tennis_mod).fit()
print(results.summary())

#et stk. plot
plt.style.use('seaborn')
Tennis_mod.plot(x='winner_rank_points', y='winner_rank', kind='scatter')
plt.show()

#bumbum.
